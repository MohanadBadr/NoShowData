{
 "cells": [
  {
   "cell_type": "markdown",
   "metadata": {
    "pycharm": {
     "name": "#%% md\n"
    }
   },
   "source": [
    "<h1><center>No-Show Appointments Project</center></h1>"
   ]
  },
  {
   "cell_type": "markdown",
   "metadata": {},
   "source": [
    "## Introduction:\n",
    "    In this project we are going to be exploring the no-show appointments dataset, posing questions to understand why \n",
    "    patients are not showing up for their appointments and how we can change that. We try to explore this by asking 3\n",
    "    questions:\n",
    "    \n",
    "        1- Are scholarships an important factor deciding if the patients show up for the next appointment?\n",
    "        2- What are the days with the most no-show cases?\n",
    "        3- Are the text messages being sent to the patients effective? Do they bring more people to the appointment?\n",
    "        4- Is there a correlation between no show rate & gender?\n",
    "    \n",
    "    It is not suggested in any way that one change in the variables explored directly result in another variable changing,\n",
    "    this is just an exploration of the dataset and an attempt to find interesting findings from it"
   ]
  },
  {
   "cell_type": "markdown",
   "metadata": {},
   "source": [
    "## Step 1: Importing relevant libraries and datasets"
   ]
  },
  {
   "cell_type": "code",
   "execution_count": 1,
   "metadata": {
    "pycharm": {
     "name": "#%%\n"
    }
   },
   "outputs": [],
   "source": [
    "import pandas as pd\n",
    "import matplotlib.pyplot as plt\n",
    "import datetime as dt\n",
    "\n"
   ]
  },
  {
   "cell_type": "code",
   "execution_count": 2,
   "outputs": [],
   "source": [
    "df = pd.read_csv('noshow.csv')"
   ],
   "metadata": {
    "collapsed": false,
    "pycharm": {
     "name": "#%%\n"
    }
   }
  },
  {
   "cell_type": "markdown",
   "metadata": {},
   "source": [
    "## Step 2: Checking data types & cleaning the data"
   ]
  },
  {
   "cell_type": "code",
   "execution_count": 3,
   "outputs": [
    {
     "data": {
      "text/plain": "      PatientId  AppointmentID Gender          ScheduledDay  \\\n0  2.987250e+13        5642903      F  2016-04-29T18:38:08Z   \n1  5.589978e+14        5642503      M  2016-04-29T16:08:27Z   \n2  4.262962e+12        5642549      F  2016-04-29T16:19:04Z   \n3  8.679512e+11        5642828      F  2016-04-29T17:29:31Z   \n4  8.841186e+12        5642494      F  2016-04-29T16:07:23Z   \n\n         AppointmentDay  Age      Neighbourhood  Scholarship  Hipertension  \\\n0  2016-04-29T00:00:00Z   62    JARDIM DA PENHA            0             1   \n1  2016-04-29T00:00:00Z   56    JARDIM DA PENHA            0             0   \n2  2016-04-29T00:00:00Z   62      MATA DA PRAIA            0             0   \n3  2016-04-29T00:00:00Z    8  PONTAL DE CAMBURI            0             0   \n4  2016-04-29T00:00:00Z   56    JARDIM DA PENHA            0             1   \n\n   Diabetes  Alcoholism  Handcap  SMS_received No-show  \n0         0           0        0             0      No  \n1         0           0        0             0      No  \n2         0           0        0             0      No  \n3         0           0        0             0      No  \n4         1           0        0             0      No  ",
      "text/html": "<div>\n<style scoped>\n    .dataframe tbody tr th:only-of-type {\n        vertical-align: middle;\n    }\n\n    .dataframe tbody tr th {\n        vertical-align: top;\n    }\n\n    .dataframe thead th {\n        text-align: right;\n    }\n</style>\n<table border=\"1\" class=\"dataframe\">\n  <thead>\n    <tr style=\"text-align: right;\">\n      <th></th>\n      <th>PatientId</th>\n      <th>AppointmentID</th>\n      <th>Gender</th>\n      <th>ScheduledDay</th>\n      <th>AppointmentDay</th>\n      <th>Age</th>\n      <th>Neighbourhood</th>\n      <th>Scholarship</th>\n      <th>Hipertension</th>\n      <th>Diabetes</th>\n      <th>Alcoholism</th>\n      <th>Handcap</th>\n      <th>SMS_received</th>\n      <th>No-show</th>\n    </tr>\n  </thead>\n  <tbody>\n    <tr>\n      <th>0</th>\n      <td>2.987250e+13</td>\n      <td>5642903</td>\n      <td>F</td>\n      <td>2016-04-29T18:38:08Z</td>\n      <td>2016-04-29T00:00:00Z</td>\n      <td>62</td>\n      <td>JARDIM DA PENHA</td>\n      <td>0</td>\n      <td>1</td>\n      <td>0</td>\n      <td>0</td>\n      <td>0</td>\n      <td>0</td>\n      <td>No</td>\n    </tr>\n    <tr>\n      <th>1</th>\n      <td>5.589978e+14</td>\n      <td>5642503</td>\n      <td>M</td>\n      <td>2016-04-29T16:08:27Z</td>\n      <td>2016-04-29T00:00:00Z</td>\n      <td>56</td>\n      <td>JARDIM DA PENHA</td>\n      <td>0</td>\n      <td>0</td>\n      <td>0</td>\n      <td>0</td>\n      <td>0</td>\n      <td>0</td>\n      <td>No</td>\n    </tr>\n    <tr>\n      <th>2</th>\n      <td>4.262962e+12</td>\n      <td>5642549</td>\n      <td>F</td>\n      <td>2016-04-29T16:19:04Z</td>\n      <td>2016-04-29T00:00:00Z</td>\n      <td>62</td>\n      <td>MATA DA PRAIA</td>\n      <td>0</td>\n      <td>0</td>\n      <td>0</td>\n      <td>0</td>\n      <td>0</td>\n      <td>0</td>\n      <td>No</td>\n    </tr>\n    <tr>\n      <th>3</th>\n      <td>8.679512e+11</td>\n      <td>5642828</td>\n      <td>F</td>\n      <td>2016-04-29T17:29:31Z</td>\n      <td>2016-04-29T00:00:00Z</td>\n      <td>8</td>\n      <td>PONTAL DE CAMBURI</td>\n      <td>0</td>\n      <td>0</td>\n      <td>0</td>\n      <td>0</td>\n      <td>0</td>\n      <td>0</td>\n      <td>No</td>\n    </tr>\n    <tr>\n      <th>4</th>\n      <td>8.841186e+12</td>\n      <td>5642494</td>\n      <td>F</td>\n      <td>2016-04-29T16:07:23Z</td>\n      <td>2016-04-29T00:00:00Z</td>\n      <td>56</td>\n      <td>JARDIM DA PENHA</td>\n      <td>0</td>\n      <td>1</td>\n      <td>1</td>\n      <td>0</td>\n      <td>0</td>\n      <td>0</td>\n      <td>No</td>\n    </tr>\n  </tbody>\n</table>\n</div>"
     },
     "execution_count": 3,
     "metadata": {},
     "output_type": "execute_result"
    }
   ],
   "source": [
    "df.head()"
   ],
   "metadata": {
    "collapsed": false,
    "pycharm": {
     "name": "#%%\n"
    }
   }
  },
  {
   "cell_type": "code",
   "execution_count": 3,
   "metadata": {
    "pycharm": {
     "name": "#%%\n"
    }
   },
   "outputs": [
    {
     "data": {
      "text/plain": "PatientId         float64\nAppointmentID       int64\nGender             object\nScheduledDay       object\nAppointmentDay     object\nAge                 int64\nNeighbourhood      object\nScholarship         int64\nHipertension        int64\nDiabetes            int64\nAlcoholism          int64\nHandcap             int64\nSMS_received        int64\nNo-show            object\ndtype: object"
     },
     "execution_count": 3,
     "metadata": {},
     "output_type": "execute_result"
    }
   ],
   "source": [
    "df.dtypes"
   ]
  },
  {
   "cell_type": "code",
   "execution_count": 3,
   "metadata": {
    "pycharm": {
     "name": "#%%\n"
    }
   },
   "outputs": [],
   "source": [
    "### Since the dates in the df are formatted as strings, we will change them to dates\n",
    "df['ScheduledDay'] = pd.to_datetime(df.ScheduledDay)\n",
    "df['AppointmentDay'] = pd.to_datetime(df.AppointmentDay)"
   ]
  },
  {
   "cell_type": "code",
   "execution_count": 3,
   "outputs": [
    {
     "data": {
      "text/plain": "(110527, 14)"
     },
     "execution_count": 3,
     "metadata": {},
     "output_type": "execute_result"
    }
   ],
   "source": [
    "df.shape"
   ],
   "metadata": {
    "collapsed": false,
    "pycharm": {
     "name": "#%%\n"
    }
   }
  },
  {
   "cell_type": "code",
   "execution_count": 4,
   "metadata": {
    "pycharm": {
     "name": "#%%\n"
    }
   },
   "outputs": [
    {
     "data": {
      "text/plain": "(datetime64[ns, UTC], datetime64[ns, UTC])"
     },
     "execution_count": 4,
     "metadata": {},
     "output_type": "execute_result"
    }
   ],
   "source": [
    "### Checking to see if what we did worked\n",
    "df['ScheduledDay'].dtypes, df['AppointmentDay'].dtypes"
   ]
  },
  {
   "cell_type": "code",
   "execution_count": 4,
   "metadata": {
    "pycharm": {
     "name": "#%%\n"
    }
   },
   "outputs": [],
   "source": [
    "## Changing the noshow column name for easier analysis\n",
    "df.rename(columns={'No-show': 'No_show'}, inplace=True)"
   ]
  },
  {
   "cell_type": "markdown",
   "metadata": {},
   "source": [
    "### Checking nulls and duplicates:"
   ]
  },
  {
   "cell_type": "code",
   "execution_count": 5,
   "metadata": {},
   "outputs": [
    {
     "data": {
      "text/plain": "0"
     },
     "execution_count": 5,
     "metadata": {},
     "output_type": "execute_result"
    }
   ],
   "source": [
    "df.duplicated().sum() ## No duplicated rows"
   ]
  },
  {
   "cell_type": "code",
   "execution_count": 6,
   "metadata": {},
   "outputs": [
    {
     "data": {
      "text/plain": "PatientId         0\nAppointmentID     0\nGender            0\nScheduledDay      0\nAppointmentDay    0\nAge               0\nNeighbourhood     0\nScholarship       0\nHipertension      0\nDiabetes          0\nAlcoholism        0\nHandcap           0\nSMS_received      0\nNo_show           0\ndtype: int64"
     },
     "execution_count": 6,
     "metadata": {},
     "output_type": "execute_result"
    }
   ],
   "source": [
    "df.isna().sum() ## No NaN values"
   ]
  },
  {
   "cell_type": "code",
   "execution_count": 6,
   "outputs": [
    {
     "data": {
      "text/plain": "      PatientId  AppointmentID Gender              ScheduledDay  \\\n0  2.987250e+13        5642903      F 2016-04-29 18:38:08+00:00   \n1  5.589978e+14        5642503      M 2016-04-29 16:08:27+00:00   \n2  4.262962e+12        5642549      F 2016-04-29 16:19:04+00:00   \n3  8.679512e+11        5642828      F 2016-04-29 17:29:31+00:00   \n4  8.841186e+12        5642494      F 2016-04-29 16:07:23+00:00   \n\n             AppointmentDay  Age      Neighbourhood  Scholarship  \\\n0 2016-04-29 00:00:00+00:00   62    JARDIM DA PENHA            0   \n1 2016-04-29 00:00:00+00:00   56    JARDIM DA PENHA            0   \n2 2016-04-29 00:00:00+00:00   62      MATA DA PRAIA            0   \n3 2016-04-29 00:00:00+00:00    8  PONTAL DE CAMBURI            0   \n4 2016-04-29 00:00:00+00:00   56    JARDIM DA PENHA            0   \n\n   Hipertension  Diabetes  Alcoholism  Handcap  SMS_received No_show  \n0             1         0           0        0             0      No  \n1             0         0           0        0             0      No  \n2             0         0           0        0             0      No  \n3             0         0           0        0             0      No  \n4             1         1           0        0             0      No  ",
      "text/html": "<div>\n<style scoped>\n    .dataframe tbody tr th:only-of-type {\n        vertical-align: middle;\n    }\n\n    .dataframe tbody tr th {\n        vertical-align: top;\n    }\n\n    .dataframe thead th {\n        text-align: right;\n    }\n</style>\n<table border=\"1\" class=\"dataframe\">\n  <thead>\n    <tr style=\"text-align: right;\">\n      <th></th>\n      <th>PatientId</th>\n      <th>AppointmentID</th>\n      <th>Gender</th>\n      <th>ScheduledDay</th>\n      <th>AppointmentDay</th>\n      <th>Age</th>\n      <th>Neighbourhood</th>\n      <th>Scholarship</th>\n      <th>Hipertension</th>\n      <th>Diabetes</th>\n      <th>Alcoholism</th>\n      <th>Handcap</th>\n      <th>SMS_received</th>\n      <th>No_show</th>\n    </tr>\n  </thead>\n  <tbody>\n    <tr>\n      <th>0</th>\n      <td>2.987250e+13</td>\n      <td>5642903</td>\n      <td>F</td>\n      <td>2016-04-29 18:38:08+00:00</td>\n      <td>2016-04-29 00:00:00+00:00</td>\n      <td>62</td>\n      <td>JARDIM DA PENHA</td>\n      <td>0</td>\n      <td>1</td>\n      <td>0</td>\n      <td>0</td>\n      <td>0</td>\n      <td>0</td>\n      <td>No</td>\n    </tr>\n    <tr>\n      <th>1</th>\n      <td>5.589978e+14</td>\n      <td>5642503</td>\n      <td>M</td>\n      <td>2016-04-29 16:08:27+00:00</td>\n      <td>2016-04-29 00:00:00+00:00</td>\n      <td>56</td>\n      <td>JARDIM DA PENHA</td>\n      <td>0</td>\n      <td>0</td>\n      <td>0</td>\n      <td>0</td>\n      <td>0</td>\n      <td>0</td>\n      <td>No</td>\n    </tr>\n    <tr>\n      <th>2</th>\n      <td>4.262962e+12</td>\n      <td>5642549</td>\n      <td>F</td>\n      <td>2016-04-29 16:19:04+00:00</td>\n      <td>2016-04-29 00:00:00+00:00</td>\n      <td>62</td>\n      <td>MATA DA PRAIA</td>\n      <td>0</td>\n      <td>0</td>\n      <td>0</td>\n      <td>0</td>\n      <td>0</td>\n      <td>0</td>\n      <td>No</td>\n    </tr>\n    <tr>\n      <th>3</th>\n      <td>8.679512e+11</td>\n      <td>5642828</td>\n      <td>F</td>\n      <td>2016-04-29 17:29:31+00:00</td>\n      <td>2016-04-29 00:00:00+00:00</td>\n      <td>8</td>\n      <td>PONTAL DE CAMBURI</td>\n      <td>0</td>\n      <td>0</td>\n      <td>0</td>\n      <td>0</td>\n      <td>0</td>\n      <td>0</td>\n      <td>No</td>\n    </tr>\n    <tr>\n      <th>4</th>\n      <td>8.841186e+12</td>\n      <td>5642494</td>\n      <td>F</td>\n      <td>2016-04-29 16:07:23+00:00</td>\n      <td>2016-04-29 00:00:00+00:00</td>\n      <td>56</td>\n      <td>JARDIM DA PENHA</td>\n      <td>0</td>\n      <td>1</td>\n      <td>1</td>\n      <td>0</td>\n      <td>0</td>\n      <td>0</td>\n      <td>No</td>\n    </tr>\n  </tbody>\n</table>\n</div>"
     },
     "execution_count": 6,
     "metadata": {},
     "output_type": "execute_result"
    }
   ],
   "source": [
    "df.head()"
   ],
   "metadata": {
    "collapsed": false,
    "pycharm": {
     "name": "#%%\n"
    }
   }
  },
  {
   "cell_type": "code",
   "execution_count": 5,
   "outputs": [],
   "source": [
    "df['AppointmentDayName'] = df['AppointmentDay'].dt.day_name() ### Creating a new column with the name of the day of the appointment"
   ],
   "metadata": {
    "collapsed": false,
    "pycharm": {
     "name": "#%%\n"
    }
   }
  },
  {
   "cell_type": "code",
   "execution_count": 6,
   "outputs": [],
   "source": [
    "### Creating a new df to include only the no-show cases\n",
    "df_noshow = df[df['No_show'] == 'Yes']"
   ],
   "metadata": {
    "collapsed": false,
    "pycharm": {
     "name": "#%%\n"
    }
   }
  },
  {
   "cell_type": "markdown",
   "source": [
    "### Data cleaning summary:\n",
    "    In the previous section, some changes were made to the data to make it more suitable for analysis\n",
    "        1- ScheduledDay & AppointmentDay were changed from strings to dates because it's easier to work with them as\n",
    "        dates than strings\n",
    "        2- the column \"No-show\" was changed to \"No_show\" as i was getting an error working with it as \"No-show\""
   ],
   "metadata": {
    "collapsed": false
   }
  },
  {
   "cell_type": "markdown",
   "source": [
    "## Step 3: Exploring the data further"
   ],
   "metadata": {
    "collapsed": false
   }
  },
  {
   "cell_type": "code",
   "execution_count": 8,
   "outputs": [
    {
     "data": {
      "text/plain": "<Figure size 432x288 with 1 Axes>",
      "image/png": "[encoded data removed]"
     },
     "metadata": {
      "needs_background": "light"
     },
     "output_type": "display_data"
    }
   ],
   "source": [
    "plt.hist(df['Age'], color='firebrick')\n",
    "plt.xlabel('Age')\n",
    "plt.ylabel('Frequency')\n",
    "plt.title('Patients grouped by age');"
   ],
   "metadata": {
    "collapsed": false,
    "pycharm": {
     "name": "#%%\n"
    }
   }
  },
  {
   "cell_type": "code",
   "execution_count": 23,
   "outputs": [
    {
     "data": {
      "text/plain": "<Figure size 432x288 with 1 Axes>",
      "image/png": "[encoded data removed]"
     },
     "metadata": {},
     "output_type": "display_data"
    }
   ],
   "source": [
    "labels = ['Show', 'No Show']\n",
    "plt.title('No Show vs Show Cases')\n",
    "plt.pie(df['No_show'].value_counts(), labels=labels, colors=['firebrick','darkgray']);"
   ],
   "metadata": {
    "collapsed": false,
    "pycharm": {
     "name": "#%%\n"
    }
   }
  },
  {
   "cell_type": "markdown",
   "source": [
    "##### This shows us that about 1 in 5 patients don't show up for their appointments, next we will try to explore the factors that lead to patients not showing up to their appointments"
   ],
   "metadata": {
    "collapsed": false
   }
  },
  {
   "cell_type": "markdown",
   "source": [
    "### Question 1: What are the days with the most no-show cases?"
   ],
   "metadata": {
    "collapsed": false
   }
  },
  {
   "cell_type": "code",
   "execution_count": 21,
   "outputs": [
    {
     "data": {
      "text/plain": "<Figure size 432x288 with 1 Axes>",
      "image/png": "[encoded data removed]"
     },
     "metadata": {
      "needs_background": "light"
     },
     "output_type": "display_data"
    }
   ],
   "source": [
    "### Creating a histogram to show the days with the most and least no show cases\n",
    "plt.hist(df_noshow['AppointmentDayName'], color='firebrick')\n",
    "plt.xlabel('Day of Week')\n",
    "plt.ylabel('Number of no-show cases')\n",
    "plt.title('Number of no-show cases by day of week');"
   ],
   "metadata": {
    "collapsed": false,
    "pycharm": {
     "name": "#%%\n"
    }
   }
  },
  {
   "cell_type": "code",
   "execution_count": 29,
   "outputs": [
    {
     "data": {
      "text/plain": "PatientId             1\nAppointmentID         1\nGender                1\nScheduledDay          1\nAppointmentDay        1\nAge                   1\nNeighbourhood         1\nScholarship           1\nHipertension          1\nDiabetes              1\nAlcoholism            1\nHandcap               1\nSMS_received          1\nNo_show               1\nScheduledDayName      1\nAppointmentDayName    1\ndtype: int64"
     },
     "execution_count": 29,
     "metadata": {},
     "output_type": "execute_result"
    }
   ],
   "source": [
    "df_noshow[df_noshow['ScheduledtDayName'] == 'Saturday'].count()"
   ],
   "metadata": {
    "collapsed": false,
    "pycharm": {
     "name": "#%%\n"
    }
   }
  },
  {
   "cell_type": "markdown",
   "source": [
    "##### To create this histogram we used the dataframe that had the no show cases only, then we extracted the names of the days from the dates, now we know that Tuesday is the day with the most no-show cases, and Saturday is the day with the least."
   ],
   "metadata": {
    "collapsed": false
   }
  },
  {
   "cell_type": "markdown",
   "source": [
    "### Question 2: Are scholarships an important factor deciding if the patients show up for the next appointment?"
   ],
   "metadata": {
    "collapsed": false
   }
  },
  {
   "cell_type": "code",
   "execution_count": 9,
   "outputs": [],
   "source": [
    "### Getting the counts of patients that have scholarships & those who don't in the no-show df\n",
    "scholar = df_noshow['Scholarship'][df_noshow['Scholarship'] == 1].count()\n",
    "no_scholar = df_noshow['Scholarship'][df_noshow['Scholarship'] == 0].count()\n"
   ],
   "metadata": {
    "collapsed": false,
    "pycharm": {
     "name": "#%%\n"
    }
   }
  },
  {
   "cell_type": "code",
   "execution_count": 10,
   "outputs": [],
   "source": [
    "### dividing by the total number of scholarship & no scholarship to get the percentages\n",
    "scholar /= df['Scholarship'][df['Scholarship'] == 1].count()\n",
    "no_scholar /= df['Scholarship'][df['Scholarship'] == 0].count()"
   ],
   "metadata": {
    "collapsed": false,
    "pycharm": {
     "name": "#%%\n"
    }
   }
  },
  {
   "cell_type": "code",
   "execution_count": 23,
   "outputs": [
    {
     "data": {
      "text/plain": "<Figure size 432x288 with 1 Axes>",
      "image/png": "[encoded data removed]"
     },
     "metadata": {
      "needs_background": "light"
     },
     "output_type": "display_data"
    }
   ],
   "source": [
    "### Creating a bar chart to show the percentage of no show cases with scholarships vs no scholarships\n",
    "mylabels = ['Scholarship', 'No Scholarship']\n",
    "values = [scholar, no_scholar]\n",
    "plt.barh(mylabels, width=values, color=['firebrick'])\n",
    "plt.title('No Show Cases Grouped by Scholarship Status''\\n');"
   ],
   "metadata": {
    "collapsed": false,
    "pycharm": {
     "name": "#%%\n"
    }
   }
  },
  {
   "cell_type": "code",
   "execution_count": 12,
   "outputs": [
    {
     "data": {
      "text/plain": "(0.2373630420771568, 0.19807155900708365)"
     },
     "execution_count": 12,
     "metadata": {},
     "output_type": "execute_result"
    }
   ],
   "source": [
    "scholar, no_scholar"
   ],
   "metadata": {
    "collapsed": false,
    "pycharm": {
     "name": "#%%\n"
    }
   }
  },
  {
   "cell_type": "markdown",
   "source": [
    "##### So, after analyzing the noshow data, we understand that having a scholarship doesn't mean the patient is more likely to show up to the next appointment, and that 23.7% of the patients that have scholarships don't show up, which is 4% more than people who don't have scholarships"
   ],
   "metadata": {
    "collapsed": false
   }
  },
  {
   "cell_type": "markdown",
   "metadata": {},
   "source": [
    "### Question 3: Are the text messages sent to the patients effective? Do they bring more people to their appointments?"
   ]
  },
  {
   "cell_type": "code",
   "execution_count": 34,
   "outputs": [
    {
     "data": {
      "text/plain": "(0.27574544839637, 0.16703311346525418)"
     },
     "execution_count": 34,
     "metadata": {},
     "output_type": "execute_result"
    }
   ],
   "source": [
    "## Calculating the percentages of patients that received an SMS and didn't show up, and the ones who didn't receive an SMS\n",
    "sms_ratio = df_noshow['SMS_received'][df_noshow['SMS_received'] == 1].count() / df['SMS_received'][df['SMS_received'] == 1].count()\n",
    "nosms_ratio = df_noshow['SMS_received'][df_noshow['SMS_received'] == 0].count() / df['SMS_received'][df['SMS_received'] == 0].count()\n",
    "sms_ratio, nosms_ratio"
   ],
   "metadata": {
    "collapsed": false,
    "pycharm": {
     "name": "#%%\n"
    }
   }
  },
  {
   "cell_type": "code",
   "execution_count": 35,
   "metadata": {},
   "outputs": [
    {
     "data": {
      "text/plain": "<Figure size 432x288 with 1 Axes>",
      "image/png": "[encoded data removed]"
     },
     "metadata": {
      "needs_background": "light"
     },
     "output_type": "display_data"
    }
   ],
   "source": [
    "## Creating a bar chart to show the ratio of no show cases who received an SMS vs who didn't\n",
    "myvalues2 = [sms_ratio, nosms_ratio]\n",
    "mylabels = ['SMS', 'No SMS']\n",
    "plt.title('Percentage of no-show cases for patients who received an SMS vs patients who didn\\'t''\\n')\n",
    "plt.xlabel('SMS vs No SMS')\n",
    "plt.ylabel('Percentage')\n",
    "plt.bar(mylabels, height=myvalues2, color='firebrick');"
   ]
  },
  {
   "cell_type": "markdown",
   "metadata": {},
   "source": [
    "##### There is a big issue here, the messages sent to the patients are inefective as almost 1 in 4 patients that receive the text message don't show up to their appointments compared to 1 in 6 for patients that don't receive it. So the clinic should try to find a different way to reach their patients."
   ]
  },
  {
   "cell_type": "markdown",
   "source": [
    "### Question 4: Is there a correlation between no show & gender"
   ],
   "metadata": {
    "collapsed": false,
    "pycharm": {
     "name": "#%% md\n"
    }
   }
  },
  {
   "cell_type": "code",
   "execution_count": 57,
   "outputs": [
    {
     "data": {
      "text/plain": "<Figure size 432x288 with 1 Axes>",
      "image/png": "[encoded data removed]"
     },
     "metadata": {},
     "output_type": "display_data"
    }
   ],
   "source": [
    "labels = ('Female', 'Male')\n",
    "Explode = [0.15, 0]\n",
    "plt.pie(df_noshow['Gender'].value_counts(), labels=labels, explode=Explode, colors=['firebrick', 'darkgray']);\n"
   ],
   "metadata": {
    "collapsed": false,
    "pycharm": {
     "name": "#%%\n"
    }
   }
  },
  {
   "cell_type": "markdown",
   "source": [
    "##### It looks like women are twice as likely to miss their appointments than men, however, we have to explore the ratio of women to men in the data first to check the accuracy of this assumption"
   ],
   "metadata": {
    "collapsed": false,
    "pycharm": {
     "name": "#%% md\n"
    }
   }
  },
  {
   "cell_type": "code",
   "execution_count": 61,
   "outputs": [
    {
     "data": {
      "text/plain": "<Figure size 432x288 with 1 Axes>",
      "image/png": "[encoded data removed]"
     },
     "metadata": {
      "needs_background": "light"
     },
     "output_type": "display_data"
    }
   ],
   "source": [
    "plt.hist(df['Gender'], bins=3, color='firebrick')\n",
    "plt.title('Patients by Gender')\n",
    "plt.xlabel('Gender')\n",
    "plt.ylabel('Count');"
   ],
   "metadata": {
    "collapsed": false,
    "pycharm": {
     "name": "#%%\n"
    }
   }
  },
  {
   "cell_type": "code",
   "execution_count": 58,
   "outputs": [
    {
     "data": {
      "text/plain": "F    71840\nM    38687\nName: Gender, dtype: int64"
     },
     "execution_count": 58,
     "metadata": {},
     "output_type": "execute_result"
    }
   ],
   "source": [
    "df['Gender'].value_counts()"
   ],
   "metadata": {
    "collapsed": false,
    "pycharm": {
     "name": "#%%\n"
    }
   }
  },
  {
   "cell_type": "markdown",
   "source": [
    "##### After investigating this further, it seems like women are represented almost twice as much in our original dataset so it is normal that they are also represented twice as much in the no show dataset"
   ],
   "metadata": {
    "collapsed": false,
    "pycharm": {
     "name": "#%% md\n"
    }
   }
  },
  {
   "cell_type": "markdown",
   "metadata": {
    "pycharm": {
     "name": "#%% md\n"
    }
   },
   "source": [
    "## Conclusion:\n",
    "    \n",
    "    Results:\n",
    "    \n",
    "    1- The day with the most no-show cases is Tuesday and the day with the least is Saturday\n",
    "    2- Our data suggests that the current SMS system is not working, as patients who receive an SMS are 18% more likely\n",
    "    not show up (38% vs 20%)\n",
    "    3- Scholarships do not affect percentage of people showing up, as our data suggests that patients who have a scholarship\n",
    "    are almost 4% more likely to not show up to the appointment (23.7% vs 19.8%)\n",
    "    4- There is no correlation between the gender of the patients and not showing up to the appointments, even though it might seem like there is\n",
    "    \n",
    "    Limitations:\n",
    "    \n",
    "    1- We can't form strong correlations because our dataset consists of mainly categorical data\n",
    "    2- Some of our findings need more context to be more accurate. For example, the number of no-show cases on Saturdays\n",
    "    is suspicious (just 1 case) so the clinic was probably closed on saturday which makes thursday the day with the \n",
    "    least no-show cases"
   ]
  }
 ],
 "metadata": {
  "kernelspec": {
   "display_name": "Python 3 (ipykernel)",
   "language": "python",
   "name": "python3"
  },
  "language_info": {
   "codemirror_mode": {
    "name": "ipython",
    "version": 3
   },
   "file_extension": ".py",
   "mimetype": "text/x-python",
   "name": "python",
   "nbconvert_exporter": "python",
   "pygments_lexer": "ipython3",
   "version": "3.9.7"
  }
 },
 "nbformat": 4,
 "nbformat_minor": 1
}